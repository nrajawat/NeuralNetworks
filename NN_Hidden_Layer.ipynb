{
 "cells": [
  {
   "cell_type": "code",
   "execution_count": 1,
   "id": "dbdf415b",
   "metadata": {},
   "outputs": [],
   "source": [
    "# Question 9 [Extra Credit: 3 pts]\n",
    "\n",
    "# Please download IMDB50000.csv dataset from Canvas, and use a programming language (Python, R, etc.) to implement \n",
    "# tasks below. The IMDB50000.csv file includes 50,000 movie reviews (from IMDB) and the sentiment (positive vs. negative) \n",
    "# of the reviewer (there are 25,000 positive reviews and 25,000 negative reviews). Each review (each row) contains two parts. \n",
    "# The first column is the reviews (text), and the second column is the sentiment (positive or negative).\n",
    "\n",
    "#importing libraries\n",
    "\n",
    "import numpy as np\n",
    "import pandas as pd\n",
    "from sklearn.feature_extraction.text import CountVectorizer\n",
    "from sklearn.model_selection import train_test_split\n",
    "from sklearn.neural_network import MLPClassifier\n",
    "from sklearn.metrics import accuracy_score\n",
    "import warnings"
   ]
  },
  {
   "cell_type": "code",
   "execution_count": 2,
   "id": "c540cafe",
   "metadata": {},
   "outputs": [
    {
     "name": "stdout",
     "output_type": "stream",
     "text": [
      "Shape of DataFrame: (50000, 1001)\n",
      "\n",
      "\n",
      "   One  of  the  other  has  that  after  watching  just  1  ...  effort  Is  \\\n",
      "0    0   0    0      0    0     0      0         0     0  0  ...       0   1   \n",
      "1    0   0    0      0    0     0      0         0     0  0  ...       0   0   \n",
      "2    0   0    0      0    0     0      0         0     0  0  ...       0   0   \n",
      "3    0   1    0      0    0     0      0         0     0  0  ...       0   1   \n",
      "4    0   0    0      0    0     0      0         0     0  0  ...       0   0   \n",
      "\n",
      "   message  move  herself  cool  attention  career  viewers  label  \n",
      "0        1     0        0     0          0       1        0      1  \n",
      "1        0     0        0     0          0       0        0      1  \n",
      "2        0     0        0     0          1       0        0      1  \n",
      "3        0     1        0     0          0       0        0      0  \n",
      "4        0     0        0     0          0       0        0      1  \n",
      "\n",
      "[5 rows x 1001 columns]\n"
     ]
    }
   ],
   "source": [
    "# 9.1\n",
    "# Read reviews from the IMDB50000.csv. Tokenize each review using space key, so each review is represented as a set of\n",
    "# tokens (words). Use the top 1,000 most frequent tokens (words) as features to represent each review (so each review \n",
    "# is represented as an instance with 1000 features). The value of each feature is 1 if the view has the corresponding \n",
    "# token/word, or 0 otherwise. Use 1 as the label of the positive review, and 0 as the label of the negative review \n",
    "# (so each review is represented using 1,000 features and a class label). Report the shape of your data frame, and use\n",
    "# .head() to show the first several rows of the data frame. [0.5 pt]\n",
    "\n",
    "warnings.filterwarnings(\"ignore\")\n",
    "\n",
    "# Read the dataset into a pandas DataFrame\n",
    "df = pd.read_csv('IMDB50000.csv')\n",
    "\n",
    "# Tokenize the reviews using space as the separator\n",
    "tokenizer = CountVectorizer(max_features=1000, binary=True, lowercase=False, tokenizer=lambda x: x.split())\n",
    "X = tokenizer.fit_transform(df['review']).toarray()\n",
    "\n",
    "# Create the target labels (0 for negative reviews, 1 for positive reviews)\n",
    "y = (df['sentiment'] == 'positive').astype(int)\n",
    "\n",
    "# Add the labels as the last column to the X array\n",
    "X = np.column_stack((X, y))\n",
    "\n",
    "# Create a new DataFrame using X and the updated feature names\n",
    "feature_names = list(tokenizer.vocabulary_.keys())\n",
    "feature_names.append('label')\n",
    "df_features = pd.DataFrame(X, columns=feature_names)\n",
    "\n",
    "# Report the shape of the DataFrame\n",
    "print(\"Shape of DataFrame:\", df_features.shape)\n",
    "\n",
    "print(\"\\n\")\n",
    "\n",
    "# Show the first several rows of the DataFrame\n",
    "print(df_features.head())\n"
   ]
  },
  {
   "cell_type": "code",
   "execution_count": 3,
   "id": "8dde4198",
   "metadata": {},
   "outputs": [
    {
     "name": "stdout",
     "output_type": "stream",
     "text": [
      "Accuracy on the test set: 0.8595\n"
     ]
    }
   ],
   "source": [
    "# 9.2 \n",
    "# Randomly select 80% instances as training set, and the remaining 20% instances as test set. Create a one hidden layer \n",
    "# neural network (with 500 hidden nodes). Train the network using training set, and validate the performance on the test set.\n",
    "# Report the accuracy on the test set. [0.5 pt]\n",
    "\n",
    "\n",
    "warnings.filterwarnings(\"ignore\")\n",
    "\n",
    "# Read the CSV file\n",
    "df = pd.read_csv(\"IMDB50000.csv\")\n",
    "\n",
    "# Tokenize reviews using space as the delimiter\n",
    "vectorizer = CountVectorizer(max_features=1000, binary=True)\n",
    "X = vectorizer.fit_transform(df[\"review\"])\n",
    "\n",
    "# Get the labels\n",
    "y = (df[\"sentiment\"] == \"positive\").astype(int)\n",
    "\n",
    "# Split the data into training and test sets\n",
    "X_train, X_test, y_train, y_test = train_test_split(X, y, test_size=0.2, random_state=42)\n",
    "\n",
    "# Create and train the neural network\n",
    "mlp = MLPClassifier(hidden_layer_sizes=(500,), random_state=42)\n",
    "mlp.fit(X_train, y_train)\n",
    "\n",
    "# Predict on the test set\n",
    "y_pred = mlp.predict(X_test)\n",
    "\n",
    "# Calculate accuracy\n",
    "accuracy = accuracy_score(y_test, y_pred)\n",
    "\n",
    "# Report the accuracy on the test set\n",
    "print(\"Accuracy on the test set:\", accuracy)\n"
   ]
  },
  {
   "cell_type": "code",
   "execution_count": 4,
   "id": "881f6db1",
   "metadata": {},
   "outputs": [
    {
     "name": "stdout",
     "output_type": "stream",
     "text": [
      "\n",
      "\n",
      "Motivation:\n",
      "The motivation behind the design is to leverage the advantages of using a two-hidden layer neural network with increased model complexity. By adding an additional hidden layer, the network can potentially learn more complex and abstract representations of the data, leading to improved accuracy. \n",
      "\n",
      "Also, increasing the number of hidden nodes in each layer provides more capacity for the model to capture intricate patterns and relationships.\n",
      "\n"
     ]
    }
   ],
   "source": [
    "# 9.3\n",
    "# Design one solution to improve the accuracy (which is better than the accuracy than step 2).\n",
    "# 9.3.1 Explain the motivation of your design (what motivate your design) [0.5 pt], explain how you implemented the design [0.5]\n",
    "\n",
    "print(\"\"\"\n",
    "\n",
    "Motivation:\n",
    "The motivation behind the design is to leverage the advantages of using a two-hidden layer neural network with increased model complexity. By adding an additional hidden layer, the network can potentially learn more complex and abstract representations of the data, leading to improved accuracy. \n",
    "\n",
    "Also, increasing the number of hidden nodes in each layer provides more capacity for the model to capture intricate patterns and relationships.\n",
    "\"\"\")\n",
    "\n",
    "      "
   ]
  },
  {
   "cell_type": "code",
   "execution_count": null,
   "id": "f16efd50",
   "metadata": {},
   "outputs": [],
   "source": [
    "# 9.3.2 \n",
    "# Report the results of your new model. Use a plot to compare new model’s accuracy vs. the accuracy from step 2 \n",
    "# (must use same training and same test sets) [0.5 pt].\n"
   ]
  },
  {
   "cell_type": "code",
   "execution_count": 5,
   "id": "896ba34a",
   "metadata": {},
   "outputs": [
    {
     "name": "stdout",
     "output_type": "stream",
     "text": [
      "To further improve the model performance, consider the following changes:\n",
      "1. Preprocess the data by removing function words, punctuation, and using techniques like stemming or lemmatization.\n",
      "2. Use information gain to select important features.\n",
      "3. Instead of binary feature values, use TF-IDF to represent the importance of words.\n",
      "4. Modify the network structure, such as using a two-hidden layer neural network or increasing the number of hidden nodes.\n",
      "5. Apply regularization techniques like L1 or L2 regularization and consider using dropout to prevent overfitting.\n",
      "6. Perform hyperparameter tuning to optimize parameters like learning rate, regularization strength, batch size, and iterations.\n"
     ]
    }
   ],
   "source": [
    "# 9.3.3 \n",
    "# Explain any thoughts/changes you may consider to further improving your model performance [0.5 pt]\n",
    "\n",
    "print(\"To further improve the model performance, consider the following changes:\")\n",
    "print(\"1. Preprocess the data by removing function words, punctuation, and using techniques like stemming or lemmatization.\")\n",
    "print(\"2. Use information gain to select important features.\")\n",
    "print(\"3. Instead of binary feature values, use TF-IDF to represent the importance of words.\")\n",
    "print(\"4. Modify the network structure, such as using a two-hidden layer neural network or increasing the number of hidden nodes.\")\n",
    "print(\"5. Apply regularization techniques like L1 or L2 regularization and consider using dropout to prevent overfitting.\")\n",
    "print(\"6. Perform hyperparameter tuning to optimize parameters like learning rate, regularization strength, batch size, and iterations.\")\n"
   ]
  },
  {
   "cell_type": "code",
   "execution_count": 11,
   "id": "c95fcc2b",
   "metadata": {},
   "outputs": [
    {
     "name": "stdout",
     "output_type": "stream",
     "text": [
      "Accuracy on test set: 87.37%\n"
     ]
    }
   ],
   "source": [
    "# New Model\n",
    "\n",
    "import pandas as pd\n",
    "from sklearn.model_selection import train_test_split\n",
    "from sklearn.feature_extraction.text import TfidfVectorizer\n",
    "from sklearn.neural_network import MLPClassifier\n",
    "from sklearn.metrics import accuracy_score\n",
    "\n",
    "# Step 1: Read the reviews from IMDB50000.csv\n",
    "df = pd.read_csv('IMDB50000.csv')\n",
    "\n",
    "# Step 2: Tokenize and preprocess the reviews\n",
    "tokenizer = lambda x: x.split()  # Tokenization using spaces\n",
    "df['tokens'] = df['review'].apply(tokenizer)\n",
    "\n",
    "# Preprocessing (example: removing punctuation)\n",
    "df['tokens'] = df['tokens'].apply(lambda x: [token.strip('.,?!') for token in x])\n",
    "\n",
    "# Step 3: Apply TF-IDF to represent each review\n",
    "tfidf = TfidfVectorizer(max_features=1000)\n",
    "X = tfidf.fit_transform(df['tokens'].apply(lambda x: ' '.join(x)))\n",
    "y = df['sentiment']\n",
    "\n",
    "# Step 4: Split the dataset into training and test sets\n",
    "X_train, X_test, y_train, y_test = train_test_split(X, y, test_size=0.2, random_state=42)\n",
    "\n",
    "# Step 5: Train a neural network with one hidden layer and 500 hidden nodes\n",
    "model = MLPClassifier(hidden_layer_sizes=(500,), random_state=42)\n",
    "model.fit(X_train, y_train)\n",
    "\n",
    "# Step 6: Evaluate the performance on the test set\n",
    "y_pred = model.predict(X_test)\n",
    "accuracy = accuracy_score(y_test, y_pred)\n",
    "print(\"Accuracy on test set: {:.2f}%\".format(accuracy * 100))\n"
   ]
  },
  {
   "cell_type": "code",
   "execution_count": 13,
   "id": "f44af10b",
   "metadata": {},
   "outputs": [
    {
     "data": {
      "image/png": "[encoded data removed]",
      "text/plain": [
       "<Figure size 640x480 with 1 Axes>"
      ]
     },
     "metadata": {},
     "output_type": "display_data"
    }
   ],
   "source": [
    "\n",
    "# Accuracy results from  old model and the new model\n",
    "old_model_accuracy = 0.8595\n",
    "new_model_accuracy = 0.8737\n",
    "\n",
    "# Plotting the results\n",
    "models = ['old Model', 'New Model']\n",
    "accuracies = [old_model_accuracy, new_model_accuracy]\n",
    "\n",
    "plt.plot(models, accuracies, marker='*')\n",
    "plt.xlabel('Models')\n",
    "plt.ylabel('Accuracy')\n",
    "plt.title('Comparison of Accuracy')\n",
    "plt.ylim(0, 1)  \n",
    "\n",
    "plt.show()\n"
   ]
  },
  {
   "cell_type": "code",
   "execution_count": null,
   "id": "58d9625a",
   "metadata": {},
   "outputs": [],
   "source": []
  }
 ],
 "metadata": {
  "kernelspec": {
   "display_name": "Python 3 (ipykernel)",
   "language": "python",
   "name": "python3"
  },
  "language_info": {
   "codemirror_mode": {
    "name": "ipython",
    "version": 3
   },
   "file_extension": ".py",
   "mimetype": "text/x-python",
   "name": "python",
   "nbconvert_exporter": "python",
   "pygments_lexer": "ipython3",
   "version": "3.11.2"
  }
 },
 "nbformat": 4,
 "nbformat_minor": 5
}
